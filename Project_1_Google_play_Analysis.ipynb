{
  "nbformat": 4,
  "nbformat_minor": 0,
  "metadata": {
    "kernelspec": {
      "display_name": "Python 3",
      "language": "python",
      "name": "python3"
    },
    "language_info": {
      "codemirror_mode": {
        "name": "ipython",
        "version": 3
      },
      "file_extension": ".py",
      "mimetype": "text/x-python",
      "name": "python",
      "nbconvert_exporter": "python",
      "pygments_lexer": "ipython3",
      "version": "3.8.5"
    },
    "colab": {
      "name": "Project 1- Google play Analysis.ipynb",
      "provenance": [],
      "collapsed_sections": [],
      "include_colab_link": true
    }
  },
  "cells": [
    {
      "cell_type": "markdown",
      "metadata": {
        "id": "view-in-github",
        "colab_type": "text"
      },
      "source": [
        "<a href=\"https://colab.research.google.com/github/mwilliams351/Project_1/blob/main/Project_1_Google_play_Analysis.ipynb\" target=\"_parent\"><img src=\"https://colab.research.google.com/assets/colab-badge.svg\" alt=\"Open In Colab\"/></a>"
      ]
    },
    {
      "cell_type": "code",
      "metadata": {
        "id": "OF0nNI53tRMc"
      },
      "source": [
        "\n",
        "from google.colab import drive\n",
        "from google.colab import files\n",
        "import pandas as pd\n",
        "import numpy as np\n",
        "from datetime import datetime\n",
        "import statistics\n",
        "import scipy.stats as stats\n",
        "from matplotlib import pyplot as plt\n",
        "import seaborn as sns\n",
        "import warnings\n",
        "warnings.filterwarnings('ignore')\n",
        "def convert(x):\n",
        "    SUFFIXES = {'k': 1000, 'M': 1e+6}\n",
        "    str_x = str(x)\n",
        "    if str_x == \"Varies with device\":\n",
        "        return 0.0\n",
        "    stripped_x = str_x.replace(',', '').replace('+', '').strip()\n",
        "    suffix = x[-1]\n",
        "    if suffix in SUFFIXES:\n",
        "        value_chars = stripped_x[:-1]\n",
        "        mantissa = float(value_chars)\n",
        "        exponent = SUFFIXES[suffix]\n",
        "        value = mantissa * exponent\n",
        "    else:\n",
        "        value = float(stripped_x)\n",
        "    return value\n",
        "\n",
        "def word_finder(string, df):\n",
        "  output_list = []\n",
        "  test_word = str(string) + \" \"\n",
        "  for index, row in df.iterrows():\n",
        "      formatted_string = row['App'].strip().lower()\n",
        "      comparison_string = formatted_string + \"  \"\n",
        "      if test_word in comparison_string:\n",
        "          output_list.append(row[\"App\"])\n",
        "  return output_list"
      ],
      "execution_count": null,
      "outputs": []
    },
    {
      "cell_type": "code",
      "metadata": {
        "id": "JVvCStbOtZIZ",
        "colab": {
          "base_uri": "https://localhost:8080/",
          "height": 340
        },
        "outputId": "b74c1316-a383-4dc2-e799-2cc4508028f7"
      },
      "source": [
        "# import  data\n",
        "drive.mount('/content/drive', force_remount=True)\n",
        "path= \"/content/drive/My Drive/Google_Data/googleplaystore.csv\"\n",
        "raw_data = pd.read_csv(path)\n",
        "#cleaning data\n",
        "new_df = raw_data.set_index(\"App\")\n",
        "new_df.drop(labels = \"Life Made WI-Fi Touchscreen Photo Frame\", axis = 0, inplace = True)\n",
        "new_df  = new_df.fillna(0)\n",
        "new_df[\"Installs\"] = new_df[\"Installs\"].apply(convert)\n",
        "new_df[\"Size\"] = new_df[\"Size\"].apply(convert)\n",
        "new_df[\"Price\"] = new_df[\"Price\"].str.replace(\"$\" , \"\").astype(float)\n",
        "clean_df = new_df.reset_index()\n",
        "new_dates=[]\n",
        "clean_df[\"Last Updated\"]=clean_df[\"Last Updated\"].astype(str)\n",
        "for index, rows in clean_df.iterrows():\n",
        "  date_formats=datetime.strptime(rows[\"Last Updated\"],\"%B %d, %Y\")\n",
        "  new_dates.append(date_formats)\n",
        "clean_df[\"Last Updated\"]=new_dates\n",
        "clean_df = clean_df.drop_duplicates(subset = ['App'], keep = 'first')\n",
        "clean_df.head()"
      ],
      "execution_count": null,
      "outputs": [
        {
          "output_type": "stream",
          "text": [
            "Mounted at /content/drive\n"
          ],
          "name": "stdout"
        },
        {
          "output_type": "execute_result",
          "data": {
            "text/html": [
              "<div>\n",
              "<style scoped>\n",
              "    .dataframe tbody tr th:only-of-type {\n",
              "        vertical-align: middle;\n",
              "    }\n",
              "\n",
              "    .dataframe tbody tr th {\n",
              "        vertical-align: top;\n",
              "    }\n",
              "\n",
              "    .dataframe thead th {\n",
              "        text-align: right;\n",
              "    }\n",
              "</style>\n",
              "<table border=\"1\" class=\"dataframe\">\n",
              "  <thead>\n",
              "    <tr style=\"text-align: right;\">\n",
              "      <th></th>\n",
              "      <th>App</th>\n",
              "      <th>Category</th>\n",
              "      <th>Rating</th>\n",
              "      <th>Reviews</th>\n",
              "      <th>Size</th>\n",
              "      <th>Installs</th>\n",
              "      <th>Type</th>\n",
              "      <th>Price</th>\n",
              "      <th>Content Rating</th>\n",
              "      <th>Genres</th>\n",
              "      <th>Last Updated</th>\n",
              "      <th>Current Ver</th>\n",
              "      <th>Android Ver</th>\n",
              "    </tr>\n",
              "  </thead>\n",
              "  <tbody>\n",
              "    <tr>\n",
              "      <th>0</th>\n",
              "      <td>Photo Editor &amp; Candy Camera &amp; Grid &amp; ScrapBook</td>\n",
              "      <td>ART_AND_DESIGN</td>\n",
              "      <td>4.1</td>\n",
              "      <td>159</td>\n",
              "      <td>19000000.0</td>\n",
              "      <td>10000.0</td>\n",
              "      <td>Free</td>\n",
              "      <td>0.0</td>\n",
              "      <td>Everyone</td>\n",
              "      <td>Art &amp; Design</td>\n",
              "      <td>2018-01-07</td>\n",
              "      <td>1.0.0</td>\n",
              "      <td>4.0.3 and up</td>\n",
              "    </tr>\n",
              "    <tr>\n",
              "      <th>1</th>\n",
              "      <td>Coloring book moana</td>\n",
              "      <td>ART_AND_DESIGN</td>\n",
              "      <td>3.9</td>\n",
              "      <td>967</td>\n",
              "      <td>14000000.0</td>\n",
              "      <td>500000.0</td>\n",
              "      <td>Free</td>\n",
              "      <td>0.0</td>\n",
              "      <td>Everyone</td>\n",
              "      <td>Art &amp; Design;Pretend Play</td>\n",
              "      <td>2018-01-15</td>\n",
              "      <td>2.0.0</td>\n",
              "      <td>4.0.3 and up</td>\n",
              "    </tr>\n",
              "    <tr>\n",
              "      <th>2</th>\n",
              "      <td>U Launcher Lite – FREE Live Cool Themes, Hide ...</td>\n",
              "      <td>ART_AND_DESIGN</td>\n",
              "      <td>4.7</td>\n",
              "      <td>87510</td>\n",
              "      <td>8700000.0</td>\n",
              "      <td>5000000.0</td>\n",
              "      <td>Free</td>\n",
              "      <td>0.0</td>\n",
              "      <td>Everyone</td>\n",
              "      <td>Art &amp; Design</td>\n",
              "      <td>2018-08-01</td>\n",
              "      <td>1.2.4</td>\n",
              "      <td>4.0.3 and up</td>\n",
              "    </tr>\n",
              "    <tr>\n",
              "      <th>3</th>\n",
              "      <td>Sketch - Draw &amp; Paint</td>\n",
              "      <td>ART_AND_DESIGN</td>\n",
              "      <td>4.5</td>\n",
              "      <td>215644</td>\n",
              "      <td>25000000.0</td>\n",
              "      <td>50000000.0</td>\n",
              "      <td>Free</td>\n",
              "      <td>0.0</td>\n",
              "      <td>Teen</td>\n",
              "      <td>Art &amp; Design</td>\n",
              "      <td>2018-06-08</td>\n",
              "      <td>Varies with device</td>\n",
              "      <td>4.2 and up</td>\n",
              "    </tr>\n",
              "    <tr>\n",
              "      <th>4</th>\n",
              "      <td>Pixel Draw - Number Art Coloring Book</td>\n",
              "      <td>ART_AND_DESIGN</td>\n",
              "      <td>4.3</td>\n",
              "      <td>967</td>\n",
              "      <td>2800000.0</td>\n",
              "      <td>100000.0</td>\n",
              "      <td>Free</td>\n",
              "      <td>0.0</td>\n",
              "      <td>Everyone</td>\n",
              "      <td>Art &amp; Design;Creativity</td>\n",
              "      <td>2018-06-20</td>\n",
              "      <td>1.1</td>\n",
              "      <td>4.4 and up</td>\n",
              "    </tr>\n",
              "  </tbody>\n",
              "</table>\n",
              "</div>"
            ],
            "text/plain": [
              "                                                 App  ...   Android Ver\n",
              "0     Photo Editor & Candy Camera & Grid & ScrapBook  ...  4.0.3 and up\n",
              "1                                Coloring book moana  ...  4.0.3 and up\n",
              "2  U Launcher Lite – FREE Live Cool Themes, Hide ...  ...  4.0.3 and up\n",
              "3                              Sketch - Draw & Paint  ...    4.2 and up\n",
              "4              Pixel Draw - Number Art Coloring Book  ...    4.4 and up\n",
              "\n",
              "[5 rows x 13 columns]"
            ]
          },
          "metadata": {
            "tags": []
          },
          "execution_count": 5
        }
      ]
    },
    {
      "cell_type": "code",
      "metadata": {
        "colab": {
          "base_uri": "https://localhost:8080/",
          "height": 294
        },
        "id": "14d8a3k730IL",
        "outputId": "8726bf9e-da30-43d4-aff0-d39c69f17fd5"
      },
      "source": [
        "clean_df.describe()"
      ],
      "execution_count": null,
      "outputs": [
        {
          "output_type": "execute_result",
          "data": {
            "text/html": [
              "<div>\n",
              "<style scoped>\n",
              "    .dataframe tbody tr th:only-of-type {\n",
              "        vertical-align: middle;\n",
              "    }\n",
              "\n",
              "    .dataframe tbody tr th {\n",
              "        vertical-align: top;\n",
              "    }\n",
              "\n",
              "    .dataframe thead th {\n",
              "        text-align: right;\n",
              "    }\n",
              "</style>\n",
              "<table border=\"1\" class=\"dataframe\">\n",
              "  <thead>\n",
              "    <tr style=\"text-align: right;\">\n",
              "      <th></th>\n",
              "      <th>Rating</th>\n",
              "      <th>Size</th>\n",
              "      <th>Installs</th>\n",
              "      <th>Price</th>\n",
              "    </tr>\n",
              "  </thead>\n",
              "  <tbody>\n",
              "    <tr>\n",
              "      <th>count</th>\n",
              "      <td>9659.000000</td>\n",
              "      <td>9.659000e+03</td>\n",
              "      <td>9.659000e+03</td>\n",
              "      <td>9659.000000</td>\n",
              "    </tr>\n",
              "    <tr>\n",
              "      <th>mean</th>\n",
              "      <td>3.541143</td>\n",
              "      <td>1.780444e+07</td>\n",
              "      <td>7.777507e+06</td>\n",
              "      <td>1.099299</td>\n",
              "    </tr>\n",
              "    <tr>\n",
              "      <th>std</th>\n",
              "      <td>1.575733</td>\n",
              "      <td>2.149524e+07</td>\n",
              "      <td>5.375828e+07</td>\n",
              "      <td>16.852152</td>\n",
              "    </tr>\n",
              "    <tr>\n",
              "      <th>min</th>\n",
              "      <td>0.000000</td>\n",
              "      <td>0.000000e+00</td>\n",
              "      <td>0.000000e+00</td>\n",
              "      <td>0.000000</td>\n",
              "    </tr>\n",
              "    <tr>\n",
              "      <th>25%</th>\n",
              "      <td>3.600000</td>\n",
              "      <td>2.900000e+06</td>\n",
              "      <td>1.000000e+03</td>\n",
              "      <td>0.000000</td>\n",
              "    </tr>\n",
              "    <tr>\n",
              "      <th>50%</th>\n",
              "      <td>4.200000</td>\n",
              "      <td>9.100000e+06</td>\n",
              "      <td>1.000000e+05</td>\n",
              "      <td>0.000000</td>\n",
              "    </tr>\n",
              "    <tr>\n",
              "      <th>75%</th>\n",
              "      <td>4.500000</td>\n",
              "      <td>2.500000e+07</td>\n",
              "      <td>1.000000e+06</td>\n",
              "      <td>0.000000</td>\n",
              "    </tr>\n",
              "    <tr>\n",
              "      <th>max</th>\n",
              "      <td>5.000000</td>\n",
              "      <td>1.000000e+08</td>\n",
              "      <td>1.000000e+09</td>\n",
              "      <td>400.000000</td>\n",
              "    </tr>\n",
              "  </tbody>\n",
              "</table>\n",
              "</div>"
            ],
            "text/plain": [
              "            Rating          Size      Installs        Price\n",
              "count  9659.000000  9.659000e+03  9.659000e+03  9659.000000\n",
              "mean      3.541143  1.780444e+07  7.777507e+06     1.099299\n",
              "std       1.575733  2.149524e+07  5.375828e+07    16.852152\n",
              "min       0.000000  0.000000e+00  0.000000e+00     0.000000\n",
              "25%       3.600000  2.900000e+06  1.000000e+03     0.000000\n",
              "50%       4.200000  9.100000e+06  1.000000e+05     0.000000\n",
              "75%       4.500000  2.500000e+07  1.000000e+06     0.000000\n",
              "max       5.000000  1.000000e+08  1.000000e+09   400.000000"
            ]
          },
          "metadata": {
            "tags": []
          },
          "execution_count": 20
        }
      ]
    },
    {
      "cell_type": "markdown",
      "metadata": {
        "id": "LaGx2EXfzCSt"
      },
      "source": [
        "# New Section"
      ]
    },
    {
      "cell_type": "code",
      "metadata": {
        "id": "Txe_ZRDZ1eGB",
        "colab": {
          "base_uri": "https://localhost:8080/",
          "height": 411
        },
        "outputId": "a8f33973-6b80-4adc-f658-f825b0b7f7d5"
      },
      "source": [
        "#Rating vs category\n",
        "ratings = clean_df.groupby(\"Category\").mean()[\"Rating\"]\n",
        "ratings\n",
        "plt.title(\"Categories and Average Rating\")\n",
        "plt.xlabel(\"Category\")\n",
        "plt.ylabel(\"Average Rating Score\")\n",
        "rating_plot = ratings.plot(kind = \"bar\")\n",
        "plt.savefig('Categories_Ratings.png')\n",
        "files.download('Categories_Ratings.png')"
      ],
      "execution_count": null,
      "outputs": [
        {
          "output_type": "display_data",
          "data": {
            "application/javascript": [
              "\n",
              "    async function download(id, filename, size) {\n",
              "      if (!google.colab.kernel.accessAllowed) {\n",
              "        return;\n",
              "      }\n",
              "      const div = document.createElement('div');\n",
              "      const label = document.createElement('label');\n",
              "      label.textContent = `Downloading \"${filename}\": `;\n",
              "      div.appendChild(label);\n",
              "      const progress = document.createElement('progress');\n",
              "      progress.max = size;\n",
              "      div.appendChild(progress);\n",
              "      document.body.appendChild(div);\n",
              "\n",
              "      const buffers = [];\n",
              "      let downloaded = 0;\n",
              "\n",
              "      const channel = await google.colab.kernel.comms.open(id);\n",
              "      // Send a message to notify the kernel that we're ready.\n",
              "      channel.send({})\n",
              "\n",
              "      for await (const message of channel.messages) {\n",
              "        // Send a message to notify the kernel that we're ready.\n",
              "        channel.send({})\n",
              "        if (message.buffers) {\n",
              "          for (const buffer of message.buffers) {\n",
              "            buffers.push(buffer);\n",
              "            downloaded += buffer.byteLength;\n",
              "            progress.value = downloaded;\n",
              "          }\n",
              "        }\n",
              "      }\n",
              "      const blob = new Blob(buffers, {type: 'application/binary'});\n",
              "      const a = document.createElement('a');\n",
              "      a.href = window.URL.createObjectURL(blob);\n",
              "      a.download = filename;\n",
              "      div.appendChild(a);\n",
              "      a.click();\n",
              "      div.remove();\n",
              "    }\n",
              "  "
            ],
            "text/plain": [
              "<IPython.core.display.Javascript object>"
            ]
          },
          "metadata": {
            "tags": []
          }
        },
        {
          "output_type": "display_data",
          "data": {
            "application/javascript": [
              "download(\"download_d16e1ce9-a6ab-45ee-be0e-8a76cf6407bc\", \"Categories_Ratings.png\", 19501)"
            ],
            "text/plain": [
              "<IPython.core.display.Javascript object>"
            ]
          },
          "metadata": {
            "tags": []
          }
        },
        {
          "output_type": "display_data",
          "data": {
            "image/png": "[encoded data removed]",
            "text/plain": [
              "<Figure size 432x288 with 1 Axes>"
            ]
          },
          "metadata": {
            "tags": [],
            "needs_background": "light"
          }
        }
      ]
    },
    {
      "cell_type": "code",
      "metadata": {
        "colab": {
          "base_uri": "https://localhost:8080/",
          "height": 296
        },
        "id": "_HTf2pbi4gZ5",
        "outputId": "5b13ed2d-a240-41ee-bcd7-ab74251275d1"
      },
      "source": [
        "#histogram of ratings\n",
        "plt.hist(clean_df.Rating)\n",
        "plt.xlabel('Ratings')\n",
        "plt.ylabel('Counts')\n",
        "plt.show()\n",
        "plt.savefig('Ratings_Histogram.png')\n",
        "files.download('Ratings_Histogram.png')"
      ],
      "execution_count": null,
      "outputs": [
        {
          "output_type": "display_data",
          "data": {
            "image/png": "[encoded data removed]",
            "text/plain": [
              "<Figure size 432x288 with 1 Axes>"
            ]
          },
          "metadata": {
            "tags": [],
            "needs_background": "light"
          }
        },
        {
          "output_type": "display_data",
          "data": {
            "application/javascript": [
              "\n",
              "    async function download(id, filename, size) {\n",
              "      if (!google.colab.kernel.accessAllowed) {\n",
              "        return;\n",
              "      }\n",
              "      const div = document.createElement('div');\n",
              "      const label = document.createElement('label');\n",
              "      label.textContent = `Downloading \"${filename}\": `;\n",
              "      div.appendChild(label);\n",
              "      const progress = document.createElement('progress');\n",
              "      progress.max = size;\n",
              "      div.appendChild(progress);\n",
              "      document.body.appendChild(div);\n",
              "\n",
              "      const buffers = [];\n",
              "      let downloaded = 0;\n",
              "\n",
              "      const channel = await google.colab.kernel.comms.open(id);\n",
              "      // Send a message to notify the kernel that we're ready.\n",
              "      channel.send({})\n",
              "\n",
              "      for await (const message of channel.messages) {\n",
              "        // Send a message to notify the kernel that we're ready.\n",
              "        channel.send({})\n",
              "        if (message.buffers) {\n",
              "          for (const buffer of message.buffers) {\n",
              "            buffers.push(buffer);\n",
              "            downloaded += buffer.byteLength;\n",
              "            progress.value = downloaded;\n",
              "          }\n",
              "        }\n",
              "      }\n",
              "      const blob = new Blob(buffers, {type: 'application/binary'});\n",
              "      const a = document.createElement('a');\n",
              "      a.href = window.URL.createObjectURL(blob);\n",
              "      a.download = filename;\n",
              "      div.appendChild(a);\n",
              "      a.click();\n",
              "      div.remove();\n",
              "    }\n",
              "  "
            ],
            "text/plain": [
              "<IPython.core.display.Javascript object>"
            ]
          },
          "metadata": {
            "tags": []
          }
        },
        {
          "output_type": "display_data",
          "data": {
            "application/javascript": [
              "download(\"download_376521b9-33c1-4ec5-8f1e-7b1f1b65c0ec\", \"Ratings_Histogram.png\", 1273)"
            ],
            "text/plain": [
              "<IPython.core.display.Javascript object>"
            ]
          },
          "metadata": {
            "tags": []
          }
        },
        {
          "output_type": "display_data",
          "data": {
            "text/plain": [
              "<Figure size 432x288 with 0 Axes>"
            ]
          },
          "metadata": {
            "tags": []
          }
        }
      ]
    },
    {
      "cell_type": "code",
      "metadata": {
        "id": "HiBuTufBOX61"
      },
      "source": [
        "Business = clean_df.loc[clean_df[\"Category\"] == \"BUSINESS\"]\n",
        "Business.head()\n",
        "business_count = Business.count()[\"App\"]\n",
        "business_rating = Business.mean()[\"Rating\"]\n",
        "business_price = Business.mean()[\"Price\"]\n",
        "business_installs = Business.mean()[\"Installs\"]\n",
        "business_size = Business.mean()[\"Size\"]"
      ],
      "execution_count": null,
      "outputs": []
    },
    {
      "cell_type": "code",
      "metadata": {
        "id": "QcvubhImPT9Z"
      },
      "source": [
        "Education = clean_df.loc[clean_df[\"Category\"] == \"EDUCATION\"]\n",
        "Education.head()\n",
        "Education_count = Education.count()[\"App\"]\n",
        "Education_rating = Education.mean()[\"Rating\"]\n",
        "Education_price = Education.mean()[\"Price\"]\n",
        "Education_installs = Education.mean()[\"Installs\"]\n",
        "Education_size = Education.mean()[\"Size\"]"
      ],
      "execution_count": null,
      "outputs": []
    },
    {
      "cell_type": "code",
      "metadata": {
        "id": "2rxktEs6PWXR"
      },
      "source": [
        "Games = clean_df.loc[clean_df[\"Category\"] == \"GAME\"]\n",
        "Games.head()\n",
        "Games_count = Games.count()[\"App\"]\n",
        "Games_rating = Games.mean()[\"Rating\"]\n",
        "Games_price = Games.mean()[\"Price\"]\n",
        "Games_installs = Games.mean()[\"Installs\"]\n",
        "Games_size = Games.mean()[\"Size\"]"
      ],
      "execution_count": null,
      "outputs": []
    },
    {
      "cell_type": "code",
      "metadata": {
        "id": "4M3Ep4TEPYEB"
      },
      "source": [
        "Productivity = clean_df.loc[clean_df[\"Category\"] == \"PRODUCTIVITY\"]\n",
        "Productivity.head()\n",
        "Productivity_count = Productivity.count()[\"App\"]\n",
        "Productivity_rating = Productivity.mean()[\"Rating\"]\n",
        "Productivity_price = Productivity.mean()[\"Price\"]\n",
        "Productivity_installs = Productivity.mean()[\"Installs\"]\n",
        "Productivity_size = Productivity.mean()[\"Size\"]"
      ],
      "execution_count": null,
      "outputs": []
    },
    {
      "cell_type": "code",
      "metadata": {
        "id": "K8mopC7APZvq"
      },
      "source": [
        "Lifestyle = clean_df.loc[clean_df[\"Category\"] == \"LIFESTYLE\"]\n",
        "Lifestyle.head()\n",
        "Lifestyle_count = Lifestyle.count()[\"App\"]\n",
        "Lifestyle_rating = Lifestyle.mean()[\"Rating\"]\n",
        "Lifestyle_price = Lifestyle.mean()[\"Price\"]\n",
        "Lifestyle_installs = Lifestyle.mean()[\"Installs\"]\n",
        "Lifestyle_size = Lifestyle.mean()[\"Size\"]"
      ],
      "execution_count": null,
      "outputs": []
    },
    {
      "cell_type": "code",
      "metadata": {
        "colab": {
          "base_uri": "https://localhost:8080/",
          "height": 202
        },
        "id": "ggcym4iGPcgS",
        "outputId": "b048f650-efe3-487e-d9ce-70bfd4835be9"
      },
      "source": [
        "summary_df = pd.DataFrame ({\"Category\": [\"Business\", \"Education\", \"Games\", \"Productivity\", \"Lifestyle\"], \n",
        "                            \"Count\": [business_count,Education_count,Games_count,Productivity_count,Lifestyle_count], \n",
        "                            \" Ratings Averages\": [business_rating, Education_rating, Games_rating,Productivity_rating,Lifestyle_rating],\n",
        "                            \"Average Price\": [business_price,Education_price,Games_price,Productivity_price,Lifestyle_price], \n",
        "                           \"Average Installs\":[business_installs,Education_installs,Games_installs,Productivity_installs,Lifestyle_installs],\n",
        "                           \"Average Size\": [business_size, Education_size,Games_size,Productivity_size,Lifestyle_size ]})\n",
        "summary_df"
      ],
      "execution_count": null,
      "outputs": [
        {
          "output_type": "execute_result",
          "data": {
            "text/html": [
              "<div>\n",
              "<style scoped>\n",
              "    .dataframe tbody tr th:only-of-type {\n",
              "        vertical-align: middle;\n",
              "    }\n",
              "\n",
              "    .dataframe tbody tr th {\n",
              "        vertical-align: top;\n",
              "    }\n",
              "\n",
              "    .dataframe thead th {\n",
              "        text-align: right;\n",
              "    }\n",
              "</style>\n",
              "<table border=\"1\" class=\"dataframe\">\n",
              "  <thead>\n",
              "    <tr style=\"text-align: right;\">\n",
              "      <th></th>\n",
              "      <th>Category</th>\n",
              "      <th>Count</th>\n",
              "      <th>Ratings Averages</th>\n",
              "      <th>Average Price</th>\n",
              "      <th>Average Installs</th>\n",
              "      <th>Average Size</th>\n",
              "    </tr>\n",
              "  </thead>\n",
              "  <tbody>\n",
              "    <tr>\n",
              "      <th>0</th>\n",
              "      <td>Business</td>\n",
              "      <td>420</td>\n",
              "      <td>2.566429</td>\n",
              "      <td>0.417357</td>\n",
              "      <td>1.659916e+06</td>\n",
              "      <td>1.241444e+07</td>\n",
              "    </tr>\n",
              "    <tr>\n",
              "      <th>1</th>\n",
              "      <td>Education</td>\n",
              "      <td>119</td>\n",
              "      <td>4.327731</td>\n",
              "      <td>0.150924</td>\n",
              "      <td>2.965983e+06</td>\n",
              "      <td>1.425279e+07</td>\n",
              "    </tr>\n",
              "    <tr>\n",
              "      <th>2</th>\n",
              "      <td>Games</td>\n",
              "      <td>959</td>\n",
              "      <td>4.039208</td>\n",
              "      <td>0.296465</td>\n",
              "      <td>1.447229e+07</td>\n",
              "      <td>3.811215e+07</td>\n",
              "    </tr>\n",
              "    <tr>\n",
              "      <th>3</th>\n",
              "      <td>Productivity</td>\n",
              "      <td>374</td>\n",
              "      <td>3.366845</td>\n",
              "      <td>0.670936</td>\n",
              "      <td>1.548955e+07</td>\n",
              "      <td>9.603393e+06</td>\n",
              "    </tr>\n",
              "    <tr>\n",
              "      <th>4</th>\n",
              "      <td>Lifestyle</td>\n",
              "      <td>369</td>\n",
              "      <td>3.339024</td>\n",
              "      <td>6.398022</td>\n",
              "      <td>1.365375e+06</td>\n",
              "      <td>1.343686e+07</td>\n",
              "    </tr>\n",
              "  </tbody>\n",
              "</table>\n",
              "</div>"
            ],
            "text/plain": [
              "       Category  Count  ...  Average Installs  Average Size\n",
              "0      Business    420  ...      1.659916e+06  1.241444e+07\n",
              "1     Education    119  ...      2.965983e+06  1.425279e+07\n",
              "2         Games    959  ...      1.447229e+07  3.811215e+07\n",
              "3  Productivity    374  ...      1.548955e+07  9.603393e+06\n",
              "4     Lifestyle    369  ...      1.365375e+06  1.343686e+07\n",
              "\n",
              "[5 rows x 6 columns]"
            ]
          },
          "metadata": {
            "tags": []
          },
          "execution_count": 28
        }
      ]
    },
    {
      "cell_type": "code",
      "metadata": {
        "id": "sVgc4Ogy1jmC",
        "colab": {
          "base_uri": "https://localhost:8080/",
          "height": 295
        },
        "outputId": "51770d01-a79a-4bb2-e827-427143df965d"
      },
      "source": [
        "#Rating vs install count\n",
        "plt.scatter(clean_df[\"Rating\"], clean_df[\"Installs\"], marker=\"o\",edgecolors='black')\n",
        "\n",
        "# Incorporate the other graph properties\n",
        "plt.title(\"Installs v Rating\")\n",
        "plt.ylabel(\"Install Count\")\n",
        "plt.xlabel(\"Rating 1-5\")\n",
        "plt.grid(True)\n",
        "# Show plot\n",
        "plt.savefig('InstallvRating.png')\n",
        "files.download('InstallvRating.png')\n",
        "plt.show()"
      ],
      "execution_count": null,
      "outputs": [
        {
          "output_type": "display_data",
          "data": {
            "image/png": "[encoded data removed]",
            "text/plain": [
              "<Figure size 432x288 with 1 Axes>"
            ]
          },
          "metadata": {
            "tags": [],
            "needs_background": "light"
          }
        }
      ]
    },
    {
      "cell_type": "code",
      "metadata": {
        "id": "sbiW2gf_1sdB",
        "colab": {
          "base_uri": "https://localhost:8080/",
          "height": 297
        },
        "outputId": "94a7b403-feec-4f6f-ca26-ffba34b8c376"
      },
      "source": [
        "#Does having “rich” “pro” or “plus” make an app more expensive?\n",
        "avg_price = clean_df[\"Price\"].mean()\n",
        "pro_prices = []\n",
        "pro_list = word_finder(\"pro\", clean_df)\n",
        "for app in pro_list:\n",
        "    indexed_df = clean_df.set_index(\"App\")\n",
        "    specific_word_prices = indexed_df.loc[app, \"Price\"]\n",
        "    pro_prices.append(specific_word_prices)\n",
        "avg_pro_prices = statistics.mean(pro_prices)\n",
        "premium_prices = []\n",
        "premium_list = word_finder(\"premium\", clean_df)\n",
        "for app in premium_list:\n",
        "    indexed_df = clean_df.set_index(\"App\")\n",
        "    specific_word_prices = indexed_df.loc[app, \"Price\"]\n",
        "    premium_prices.append(specific_word_prices)\n",
        "avg_premium_prices = statistics.mean(premium_prices)\n",
        "plus_prices = []\n",
        "plus_list = word_finder(\"plus\", clean_df)\n",
        "for app in plus_list:\n",
        "    indexed_df = clean_df.set_index(\"App\")\n",
        "    specific_word_prices = indexed_df.loc[app, \"Price\"]\n",
        "    plus_prices.append(specific_word_prices)\n",
        "avg_plus_prices = statistics.mean(plus_prices)\n",
        "char_plus_prices = []\n",
        "char_plus_list = word_finder(\"+\", clean_df)\n",
        "for app in char_plus_list:\n",
        "    indexed_df = clean_df.set_index(\"App\")\n",
        "    specific_word_prices = indexed_df.loc[app, \"Price\"]\n",
        "    char_plus_prices.append(specific_word_prices)\n",
        "avg_char_plus_prices = statistics.mean(char_plus_prices)\n",
        "rich_prices = []\n",
        "rich_list = word_finder(\"rich\", clean_df)\n",
        "for app in rich_list:\n",
        "    indexed_df = clean_df.set_index(\"App\")\n",
        "    specific_word_prices = indexed_df.loc[app, \"Price\"]\n",
        "    rich_prices.append(specific_word_prices)\n",
        "rich_prices = statistics.mean(rich_prices)\n",
        "\n",
        "titles_list = ['Control', 'Pro', 'Premium', 'Plus', '+', 'Rich']\n",
        "prices_list = [avg_price, avg_pro_prices, avg_premium_prices, avg_plus_prices, avg_char_plus_prices, rich_prices]\n",
        "titles_without_rich = ['Control', 'Pro', 'Premium', 'Plus', '+']\n",
        "prices_without_rich = [avg_price, avg_pro_prices, avg_premium_prices, avg_plus_prices, avg_char_plus_prices]\n",
        "\n",
        "plt.bar(titles_list,prices_list)\n",
        "plt.title('Average of App Prices (With Rich)')\n",
        "plt.xlabel('App Name Descriptions')\n",
        "plt.ylabel('Price in USD')\n",
        "plt.tight_layout()\n",
        "plt.savefig('Average_of_App_Prices_With_Rich.png')\n",
        "files.download('Average_of_App_Prices_With_Rich.png')"
      ],
      "execution_count": null,
      "outputs": [
        {
          "output_type": "display_data",
          "data": {
            "application/javascript": [
              "\n",
              "    async function download(id, filename, size) {\n",
              "      if (!google.colab.kernel.accessAllowed) {\n",
              "        return;\n",
              "      }\n",
              "      const div = document.createElement('div');\n",
              "      const label = document.createElement('label');\n",
              "      label.textContent = `Downloading \"${filename}\": `;\n",
              "      div.appendChild(label);\n",
              "      const progress = document.createElement('progress');\n",
              "      progress.max = size;\n",
              "      div.appendChild(progress);\n",
              "      document.body.appendChild(div);\n",
              "\n",
              "      const buffers = [];\n",
              "      let downloaded = 0;\n",
              "\n",
              "      const channel = await google.colab.kernel.comms.open(id);\n",
              "      // Send a message to notify the kernel that we're ready.\n",
              "      channel.send({})\n",
              "\n",
              "      for await (const message of channel.messages) {\n",
              "        // Send a message to notify the kernel that we're ready.\n",
              "        channel.send({})\n",
              "        if (message.buffers) {\n",
              "          for (const buffer of message.buffers) {\n",
              "            buffers.push(buffer);\n",
              "            downloaded += buffer.byteLength;\n",
              "            progress.value = downloaded;\n",
              "          }\n",
              "        }\n",
              "      }\n",
              "      const blob = new Blob(buffers, {type: 'application/binary'});\n",
              "      const a = document.createElement('a');\n",
              "      a.href = window.URL.createObjectURL(blob);\n",
              "      a.download = filename;\n",
              "      div.appendChild(a);\n",
              "      a.click();\n",
              "      div.remove();\n",
              "    }\n",
              "  "
            ],
            "text/plain": [
              "<IPython.core.display.Javascript object>"
            ]
          },
          "metadata": {
            "tags": []
          }
        },
        {
          "output_type": "display_data",
          "data": {
            "application/javascript": [
              "download(\"download_792fd2eb-552d-465c-a1d2-3be34d527ff1\", \"Average_of_App_Prices_With_Rich.png\", 11480)"
            ],
            "text/plain": [
              "<IPython.core.display.Javascript object>"
            ]
          },
          "metadata": {
            "tags": []
          }
        },
        {
          "output_type": "display_data",
          "data": {
            "image/png": "[encoded data removed]",
            "text/plain": [
              "<Figure size 432x288 with 1 Axes>"
            ]
          },
          "metadata": {
            "tags": [],
            "needs_background": "light"
          }
        }
      ]
    },
    {
      "cell_type": "code",
      "metadata": {
        "colab": {
          "base_uri": "https://localhost:8080/",
          "height": 297
        },
        "id": "Kz0jOTZWTxaa",
        "outputId": "77cf85c1-f2f7-4ba2-af2b-583aa5d59558"
      },
      "source": [
        "plt.bar(titles_without_rich,prices_without_rich)\n",
        "plt.title('Average of App Prices (Excluding Rich)')\n",
        "plt.xlabel('App Name Descriptions')\n",
        "plt.ylabel('Price in USD')\n",
        "plt.tight_layout()\n",
        "plt.savefig('Average_of_App_Prices.png')\n",
        "files.download('Average_of_App_Prices.png')"
      ],
      "execution_count": null,
      "outputs": [
        {
          "output_type": "display_data",
          "data": {
            "application/javascript": [
              "\n",
              "    async function download(id, filename, size) {\n",
              "      if (!google.colab.kernel.accessAllowed) {\n",
              "        return;\n",
              "      }\n",
              "      const div = document.createElement('div');\n",
              "      const label = document.createElement('label');\n",
              "      label.textContent = `Downloading \"${filename}\": `;\n",
              "      div.appendChild(label);\n",
              "      const progress = document.createElement('progress');\n",
              "      progress.max = size;\n",
              "      div.appendChild(progress);\n",
              "      document.body.appendChild(div);\n",
              "\n",
              "      const buffers = [];\n",
              "      let downloaded = 0;\n",
              "\n",
              "      const channel = await google.colab.kernel.comms.open(id);\n",
              "      // Send a message to notify the kernel that we're ready.\n",
              "      channel.send({})\n",
              "\n",
              "      for await (const message of channel.messages) {\n",
              "        // Send a message to notify the kernel that we're ready.\n",
              "        channel.send({})\n",
              "        if (message.buffers) {\n",
              "          for (const buffer of message.buffers) {\n",
              "            buffers.push(buffer);\n",
              "            downloaded += buffer.byteLength;\n",
              "            progress.value = downloaded;\n",
              "          }\n",
              "        }\n",
              "      }\n",
              "      const blob = new Blob(buffers, {type: 'application/binary'});\n",
              "      const a = document.createElement('a');\n",
              "      a.href = window.URL.createObjectURL(blob);\n",
              "      a.download = filename;\n",
              "      div.appendChild(a);\n",
              "      a.click();\n",
              "      div.remove();\n",
              "    }\n",
              "  "
            ],
            "text/plain": [
              "<IPython.core.display.Javascript object>"
            ]
          },
          "metadata": {
            "tags": []
          }
        },
        {
          "output_type": "display_data",
          "data": {
            "application/javascript": [
              "download(\"download_9ee547ed-173d-4571-aa1e-0ab262fa010d\", \"Average_of_App_Prices.png\", 13197)"
            ],
            "text/plain": [
              "<IPython.core.display.Javascript object>"
            ]
          },
          "metadata": {
            "tags": []
          }
        },
        {
          "output_type": "display_data",
          "data": {
            "image/png": "[encoded data removed]",
            "text/plain": [
              "<Figure size 432x288 with 1 Axes>"
            ]
          },
          "metadata": {
            "tags": [],
            "needs_background": "light"
          }
        }
      ]
    },
    {
      "cell_type": "code",
      "metadata": {
        "id": "1lXX_P01KsXS",
        "colab": {
          "base_uri": "https://localhost:8080/",
          "height": 295
        },
        "outputId": "1eaf480f-17f3-4907-d86b-31fbcaac13d8"
      },
      "source": [
        "\n",
        "#Updated date Vs. number of reviews\n",
        "\n",
        "plt.bar(clean_df[\"Last Updated\"],clean_df[\"Rating\"], color='b',align=\"center\")\n",
        "plt.title(\"Last Updated Vs. Rating\")\n",
        "plt.xlabel(\"Last Updated Date\")\n",
        "plt.ylabel(\"Rating Score\")\n",
        "plt.show()\n",
        "plt.savefig('Updated_Date_Vs.Num_of_Reviews.png')\n",
        "files.download('Updated_Date_Vs.Num_of_Reviews.png')"
      ],
      "execution_count": null,
      "outputs": [
        {
          "output_type": "display_data",
          "data": {
            "image/png": "[encoded data removed]",
            "text/plain": [
              "<Figure size 432x288 with 1 Axes>"
            ]
          },
          "metadata": {
            "tags": [],
            "needs_background": "light"
          }
        }
      ]
    },
    {
      "cell_type": "code",
      "metadata": {
        "id": "hm_jah-S1y2p"
      },
      "source": [
        "#Install counts with number of reviews"
      ],
      "execution_count": null,
      "outputs": []
    },
    {
      "cell_type": "code",
      "metadata": {
        "colab": {
          "base_uri": "https://localhost:8080/",
          "height": 281
        },
        "id": "Ej9Z_Yte-_2h",
        "outputId": "9268b3aa-5bf5-4776-febe-344803e319c9"
      },
      "source": [
        "#Content ratings\n",
        "content_rating = clean_df[clean_df['Content Rating'] != 'Adults only 18+']\n",
        "content_rating = content_rating[content_rating['Content Rating'] != 'Unrated']\n",
        "content_rating['Content Rating'].value_counts()\n",
        "\n",
        "pie_data = content_rating['Content Rating'].value_counts()\n",
        "labels = content_rating['Content Rating'].unique()\n",
        "colors = [\"lightskyblue\",\"purple\",\"lightcoral\",\"pink\"]\n",
        "explode = (0,0.1,0.1,0.1,0.1)\n",
        "\n",
        "plt.pie(pie_data,autopct=\"%1.1f%%\",labels=labels,colors=colors,shadow=True,startangle=30)\n",
        "plt.axis(\"equal\")\n",
        "plt.title('Content Ratings')\n",
        "plt.plot\n",
        "plt.savefig('Content_Ratings_PieChart.png')\n",
        "files.download('Content_Ratings_PieChart.png')"
      ],
      "execution_count": null,
      "outputs": [
        {
          "output_type": "execute_result",
          "data": {
            "text/plain": [
              "<function matplotlib.pyplot.plot>"
            ]
          },
          "metadata": {
            "tags": []
          },
          "execution_count": 32
        },
        {
          "output_type": "display_data",
          "data": {
            "image/png": "[encoded data removed]",
            "text/plain": [
              "<Figure size 432x288 with 1 Axes>"
            ]
          },
          "metadata": {
            "tags": []
          }
        }
      ]
    },
    {
      "cell_type": "code",
      "metadata": {
        "colab": {
          "base_uri": "https://localhost:8080/",
          "height": 676
        },
        "id": "OJvixBXiJkSm",
        "outputId": "a8c39b15-a010-4df8-d622-7af8f0790c90"
      },
      "source": [
        "# Create a boxplot to compare Rating means for each Content Rating\n",
        "content_rating.boxplot(\"Rating\", by=\"Content Rating\", figsize=(20, 10))\n",
        "plt.savefig('Ratings_BoxPlot.png')\n",
        "files.download('Ratings_BoxPlot.png')"
      ],
      "execution_count": null,
      "outputs": [
        {
          "output_type": "execute_result",
          "data": {
            "text/plain": [
              "<matplotlib.axes._subplots.AxesSubplot at 0x7f5c08255850>"
            ]
          },
          "metadata": {
            "tags": []
          },
          "execution_count": 25
        },
        {
          "output_type": "display_data",
          "data": {
            "image/png": "[encoded data removed]",
            "text/plain": [
              "<Figure size 1440x720 with 1 Axes>"
            ]
          },
          "metadata": {
            "tags": [],
            "needs_background": "light"
          }
        }
      ]
    },
    {
      "cell_type": "code",
      "metadata": {
        "colab": {
          "base_uri": "https://localhost:8080/"
        },
        "id": "JrZq8oLtJuNo",
        "outputId": "93f05f95-81fd-47cb-f402-40a28a9ad857"
      },
      "source": [
        "group1 = content_rating[content_rating[\"Content Rating\"] == \"Everyone\"][\"Rating\"]\n",
        "group2 = content_rating[content_rating[\"Content Rating\"] == \"Everyone 10+\"][\"Rating\"]\n",
        "group3 = content_rating[content_rating[\"Content Rating\"] == \"Mature 17+\"][\"Rating\"]\n",
        "group4 = content_rating[content_rating[\"Content Rating\"] == \"Teen\"][\"Rating\"]\n",
        "\n",
        "stats.f_oneway(group1, group2, group3, group4)"
      ],
      "execution_count": null,
      "outputs": [
        {
          "output_type": "execute_result",
          "data": {
            "text/plain": [
              "F_onewayResult(statistic=18.836099820093516, pvalue=3.5433808144993265e-12)"
            ]
          },
          "metadata": {
            "tags": []
          },
          "execution_count": 26
        }
      ]
    }
  ]
}